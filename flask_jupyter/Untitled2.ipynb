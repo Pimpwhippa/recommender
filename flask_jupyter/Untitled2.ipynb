{
 "cells": [
  {
   "cell_type": "code",
   "execution_count": null,
   "metadata": {},
   "outputs": [],
   "source": [
    "ส่วนแรกจาก dannyibo โหลดดาต้าจาก sqlite\n",
    "เสร็จแล้วไปเอาของสิทธัตถะ set up data to feed in the model\n",
    "จนได้เป็น model"
   ]
  },
  {
   "cell_type": "code",
   "execution_count": null,
   "metadata": {},
   "outputs": [],
   "source": [
    "#เท่โคตร ก็เลยไป query table movies มาใหม่\n",
    "\n",
    "#จาก engine ไม่ต้องสั่งโหลดจากไฟล์ แต่สั่ง query มาแทน\n",
    "\n",
    "movie_id_unique = 'SELECT * FROM movies'\n",
    "\n",
    "all_movies = pd.read_sql(movie_id_unique, engine)\n",
    "\n",
    "all_movies"
   ]
  },
  {
   "cell_type": "code",
   "execution_count": null,
   "metadata": {},
   "outputs": [],
   "source": [
    "#นี่คือ df ที่จะเอามาใช้ตั้งต้น แล้วลบออกด้วย process_user_input()\n",
    "\n",
    "## อ่อ แล้วต้องแปลงกลับไปเป็น ratings.csv ใหม่ด้วยสิ เพราะผลลัพธ์ที่อยากได้คือ y = df[\"ratings\"] ถูกไหม\n",
    "\n",
    "#แล้วค่อยเอามันไปใส่ใน predict()\n",
    "\n",
    "#แต่เดี๋ยวต้องมาไล่ดูว่าจะใส่ฟังชั่นตรงไหนบ้างแล้วเรียกยังไง\n",
    "\n",
    "​\n",
    "\n",
    "ดูสิมีหนัง 9741 เรื่อง แต่มี movieId ตั้ง 193609 ratings\n",
    "\n",
    "\tindex \tmovieId \ttitle \tgenres\n",
    "0 \t0 \t1 \tToy Story (1995) \tAdventure|Animation|Children|Comedy|Fantasy\n",
    "1 \t1 \t2 \tJumanji (1995) \tAdventure|Children|Fantasy\n",
    "2 \t2 \t3 \tGrumpier Old Men (1995) \tComedy|Romance\n",
    "3 \t3 \t4 \tWaiting to Exhale (1995) \tComedy|Drama|Romance\n",
    "4 \t4 \t5 \tFather of the Bride Part II (1995) \tComedy\n",
    "... \t... \t... \t... \t...\n",
    "9737 \t9737 \t193581 \tBlack Butler: Book of the Atlantic (2017) \tAction|Animation|Comedy|Fantasy\n",
    "9738 \t9738 \t193583 \tNo Game No Life: Zero (2017) \tAnimation|Comedy|Fantasy\n",
    "9739 \t9739 \t193585 \tFlint (2017) \tDrama\n",
    "9740 \t9740 \t193587 \tBungo Stray Dogs: Dead Apple (2018) \tAction|Animation\n",
    "9741 \t9741 \t193609 \tAndrew Dice Clay: Dice Rules (1991) \tComedy\n",
    "\n",
    "9742 rows × 4 columns\n"
   ]
  },
  {
   "cell_type": "code",
   "execution_count": null,
   "metadata": {},
   "outputs": [],
   "source": []
  },
  {
   "cell_type": "code",
   "execution_count": null,
   "metadata": {},
   "outputs": [],
   "source": [
    "import numpy as np\n",
    "user_movie_array = np.hstack(\n",
    "    ([[user_encoder]] * len(movies_not_watched), movies_not_watched)\n",
    ")\n",
    "user_movie_array"
   ]
  },
  {
   "cell_type": "code",
   "execution_count": null,
   "metadata": {},
   "outputs": [],
   "source": [
    "array([[ 289,  481],\n",
    "       [ 289,    1],\n",
    "       [ 289,  482],\n",
    "       ...,\n",
    "       [ 289, 3870],\n",
    "       [ 289, 2989],\n",
    "       [ 289, 7869]])"
   ]
  },
  {
   "cell_type": "code",
   "execution_count": null,
   "metadata": {},
   "outputs": [],
   "source": [
    "จริงๆเอาแค่ movies_not_watched ก็พอ"
   ]
  }
 ],
 "metadata": {
  "kernelspec": {
   "display_name": "Python 3",
   "language": "python",
   "name": "python3"
  },
  "language_info": {
   "codemirror_mode": {
    "name": "ipython",
    "version": 3
   },
   "file_extension": ".py",
   "mimetype": "text/x-python",
   "name": "python",
   "nbconvert_exporter": "python",
   "pygments_lexer": "ipython3",
   "version": "3.8.6"
  }
 },
 "nbformat": 4,
 "nbformat_minor": 4
}
