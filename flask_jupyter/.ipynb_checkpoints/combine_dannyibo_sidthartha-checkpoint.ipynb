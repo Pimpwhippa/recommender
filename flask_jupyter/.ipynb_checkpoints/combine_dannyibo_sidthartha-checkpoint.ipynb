{
 "cells": [
  {
   "cell_type": "code",
   "execution_count": null,
   "metadata": {},
   "outputs": [],
   "source": [
    "ส่วนแรกจาก dannyibo โหลดดาต้าจาก sqlite\n",
    "เสร็จแล้ว set up data to feed in the model ของสิทธัตถะ\n",
    "จนได้เป็น model RecommenderNet() ออกมา\n",
    "เสร็จแล้วกลับมาเอา user_input() ของแดนนี่\n",
    "กลับไปใส่ในโมเดลของสิทธัตถะ\n",
    "แล้วเอาผลลัพธ์กลับมาออก flask เหมือนแดนนี่"
   ]
  },
  {
   "cell_type": "code",
   "execution_count": null,
   "metadata": {},
   "outputs": [],
   "source": [
    "#from danny\n",
    "#เท่โคตร ก็เลยไป query table movies มาใหม่\n",
    "\n",
    "#จาก engine ไม่ต้องสั่งโหลดจากไฟล์ แต่สั่ง query มาแทน\n",
    "\n",
    "movie_id_unique = 'SELECT * FROM movies'\n",
    "\n",
    "all_movies = pd.read_sql(movie_id_unique, engine)\n",
    "\n",
    "all_movies"
   ]
  },
  {
   "cell_type": "code",
   "execution_count": null,
   "metadata": {},
   "outputs": [],
   "source": [
    "#นี่คือ df ที่จะเอามาใช้ตั้งต้น แล้วลบออกด้วย process_user_input()\n",
    "\n",
    "## อ่อ แล้วต้องแปลงกลับไปเป็น ratings.csv ใหม่ด้วยสิ เพราะผลลัพธ์ที่อยากได้คือ y = df[\"ratings\"] ถูกไหม\n",
    "\n",
    "#แล้วค่อยเอามันไปใส่ใน predict()\n",
    "\n",
    "#แต่เดี๋ยวต้องมาไล่ดูว่าจะใส่ฟังชั่นตรงไหนบ้างแล้วเรียกยังไง\n",
    "\n",
    "​\n",
    "\n",
    "ดูสิมีหนัง 9741 เรื่อง แต่มี movieId ตั้ง 193609 ratings\n",
    "\n",
    "\tindex \tmovieId \ttitle \tgenres\n",
    "0 \t0 \t1 \tToy Story (1995) \tAdventure|Animation|Children|Comedy|Fantasy\n",
    "1 \t1 \t2 \tJumanji (1995) \tAdventure|Children|Fantasy\n",
    "2 \t2 \t3 \tGrumpier Old Men (1995) \tComedy|Romance\n",
    "3 \t3 \t4 \tWaiting to Exhale (1995) \tComedy|Drama|Romance\n",
    "4 \t4 \t5 \tFather of the Bride Part II (1995) \tComedy\n",
    "... \t... \t... \t... \t...\n",
    "9737 \t9737 \t193581 \tBlack Butler: Book of the Atlantic (2017) \tAction|Animation|Comedy|Fantasy\n",
    "9738 \t9738 \t193583 \tNo Game No Life: Zero (2017) \tAnimation|Comedy|Fantasy\n",
    "9739 \t9739 \t193585 \tFlint (2017) \tDrama\n",
    "9740 \t9740 \t193587 \tBungo Stray Dogs: Dead Apple (2018) \tAction|Animation\n",
    "9741 \t9741 \t193609 \tAndrew Dice Clay: Dice Rules (1991) \tComedy\n",
    "\n",
    "9742 rows × 4 columns\n"
   ]
  },
  {
   "cell_type": "code",
   "execution_count": null,
   "metadata": {},
   "outputs": [],
   "source": []
  },
  {
   "cell_type": "code",
   "execution_count": null,
   "metadata": {},
   "outputs": [],
   "source": [
    "#from siddhartha\n",
    "\n",
    "import numpy as np\n",
    "user_movie_array = np.hstack(\n",
    "    ([[user_encoder]] * len(movies_not_watched), movies_not_watched)\n",
    ")\n",
    "user_movie_array"
   ]
  },
  {
   "cell_type": "code",
   "execution_count": null,
   "metadata": {},
   "outputs": [],
   "source": [
    "array([[ 289,  481],\n",
    "       [ 289,    1],\n",
    "       [ 289,  482],\n",
    "       ...,\n",
    "       [ 289, 3870],\n",
    "       [ 289, 2989],\n",
    "       [ 289, 7869]])"
   ]
  },
  {
   "cell_type": "code",
   "execution_count": null,
   "metadata": {},
   "outputs": [],
   "source": [
    "จริงๆเอาแค่ movies_not_watched ก็พอ เพราะมี user คนเดียว"
   ]
  },
  {
   "cell_type": "code",
   "execution_count": null,
   "metadata": {},
   "outputs": [],
   "source": [
    "#ประเด็นอยู่ตรงนี้\n",
    "df[\"movie\"] = df[\"movieId\"].map(movie2movie_encoded)\n"
   ]
  },
  {
   "cell_type": "code",
   "execution_count": null,
   "metadata": {},
   "outputs": [],
   "source": [
    "#แต่เดี๋ยวที่เราจะใช้ก็คือ index ไม่ใช่ movieId"
   ]
  },
  {
   "cell_type": "code",
   "execution_count": null,
   "metadata": {},
   "outputs": [],
   "source": [
    "#from danny again\n",
    "\n",
    "all_movies[5400:5420]\n",
    "\n",
    "#หาบรรทัดนี้อยู่นาน ว่าทำไมอยู่ดีๆ Id มันถึงกระโดดไปเยอะขนาดนั้น\n",
    "\n",
    "#แต่เดี๋ยวที่เราจะใช้ก็คือ index ไม่ใช่ movieId\n",
    "\n",
    "\tindex \tmovieId \ttitle \tgenres\n",
    "5400 \t5400 \t9018 \tControl Room (2004) \tDocumentary|War\n",
    "5401 \t5401 \t25746 \tHunchback of Notre Dame, The (1923) \tDrama|Horror\n",
    "5402 \t5402 \t25750 \tSherlock Jr. (1924) \tComedy|Fantasy|Romance\n",
    "5403 \t5403 \t25752 \tFreshman, The (1925) \tComedy\n",
    "5404 \t5404 \t25753 \tGreed (1924) \tDrama\n",
    "5405 \t5405 \t25757 \tJazz Singer, The (1927) \tDrama|Musical|Romance\n",
    "5406 \t5406 \t25769 \tSteamboat Bill, Jr. (1928) \tComedy|Romance\n",
    "5407 \t5407 \t25771 \tAndalusian Dog, An (Chien andalou, Un) (1929) \tFantasy\n",
    "5408 \t5408 \t25773 \tLittle Caesar (1931) \tCrime|Drama\n",
    "5409 \t5409 \t25782 \tBoudu Saved From Drowning (Boudu sauvé des eau... \tComedy\n",
    "5410 \t5410 \t25788 \tScarface (1932) \tCrime|Drama\n",
    "                                                   "
   ]
  },
  {
   "cell_type": "code",
   "execution_count": null,
   "metadata": {},
   "outputs": [],
   "source": [
    "#from siddhartha\n",
    "\n",
    "movies_not_watched = movie_df[\n",
    "\n",
    "    ~movie_df[\"movieId\"].isin(movies_watched_by_user.movieId.values)\n",
    "\n",
    "][\"movieId\"]\n",
    "\n",
    "movies_not_watched\n",
    "\n",
    "1            2\n",
    "2            3\n",
    "3            4\n",
    "4            5\n",
    "5            6\n",
    "         ...  \n",
    "9737    193581\n",
    "9738    193583\n",
    "9739    193585\n",
    "9740    193587\n",
    "9741    193609\n",
    "Name: movieId, Length: 9475, dtype: int64"
   ]
  },
  {
   "cell_type": "code",
   "execution_count": null,
   "metadata": {},
   "outputs": [],
   "source": [
    "เอา process_user_input() มาใส่ใน movies_watched_by_user ก็เสร็จแล้ว"
   ]
  },
  {
   "cell_type": "code",
   "execution_count": null,
   "metadata": {},
   "outputs": [],
   "source": [
    "เอาล่ะ ก็กลับไป work on flask ได้\n",
    "ดูว่า เอาข้อมูลจาก flask มา guess แล้วก็ดึงเอา index ออกมา"
   ]
  }
 ],
 "metadata": {
  "kernelspec": {
   "display_name": "Python 3",
   "language": "python",
   "name": "python3"
  },
  "language_info": {
   "codemirror_mode": {
    "name": "ipython",
    "version": 3
   },
   "file_extension": ".py",
   "mimetype": "text/x-python",
   "name": "python",
   "nbconvert_exporter": "python",
   "pygments_lexer": "ipython3",
   "version": "3.8.6"
  }
 },
 "nbformat": 4,
 "nbformat_minor": 4
}
